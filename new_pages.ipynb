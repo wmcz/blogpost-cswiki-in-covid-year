{
 "cells": [
  {
   "cell_type": "markdown",
   "id": "d2b9682f",
   "metadata": {},
   "source": [
    "# Czech Wikipedia in the covid era: New pages\n",
    "\n",
    "This notebook shows data about pages created at Czech Wikipedia during years 2020 and 2019.\n",
    "\n",
    "Created by Martin Urbanec, Wikimedia Czech Republic. WIP notebook, do not rely on (yet)."
   ]
  },
  {
   "cell_type": "code",
   "execution_count": 1,
   "id": "594ce23a",
   "metadata": {},
   "outputs": [],
   "source": [
    "from wmfdata import spark\n",
    "import pandas as pd\n",
    "\n",
    "pd.set_option('display.max_colwidth', None)\n",
    "pd.set_option('display.width', None)\n",
    "pd.set_option('display.max_rows', None)\n",
    "pd.set_option('display.max_columns', None)"
   ]
  },
  {
   "cell_type": "markdown",
   "id": "d3c25b5a",
   "metadata": {},
   "source": [
    "## Configuration"
   ]
  },
  {
   "cell_type": "code",
   "execution_count": 2,
   "id": "411917c2",
   "metadata": {},
   "outputs": [],
   "source": [
    "SNAPSHOT = '2021-05'\n",
    "PROJECT='cs.wikipedia'\n",
    "DBNAME = 'cswiki'"
   ]
  },
  {
   "cell_type": "markdown",
   "id": "40d6ecb6",
   "metadata": {},
   "source": [
    "## Helper methods"
   ]
  },
  {
   "cell_type": "code",
   "execution_count": 3,
   "id": "0c6403e8",
   "metadata": {},
   "outputs": [],
   "source": [
    "def merge_dataframes(file_2019, file_2020, suffixes=('_2019', '_2020')):\n",
    "    df_2019 = pd.read_csv(file_2019, sep='\\t')\n",
    "    df_2019['date'] = df_2019.date.str.replace('2019-', 'year-')\n",
    "    df_2019.set_index('date', inplace=True)\n",
    "\n",
    "    df_2020 = pd.read_csv(file_2020, sep='\\t')\n",
    "    df_2020['date'] = df_2020.date.str.replace('2020-', 'year-')\n",
    "    df_2020.set_index('date', inplace=True)\n",
    "\n",
    "    df = df_2019.merge(df_2020, left_index=True, right_index=True, suffixes=suffixes)\n",
    "    df.reset_index(inplace=True)\n",
    "    df['date'] = df.date.str.replace('year-', '2020-')\n",
    "    df.set_index('date', inplace=True)\n",
    "    \n",
    "    return df"
   ]
  },
  {
   "cell_type": "markdown",
   "id": "2a966f80",
   "metadata": {},
   "source": [
    "## New survived pages"
   ]
  },
  {
   "cell_type": "code",
   "execution_count": null,
   "id": "cdc8bdc0",
   "metadata": {},
   "outputs": [],
   "source": [
    "def get_new_pages_daily(start_ts, end_ts):\n",
    "    df = spark.run('''\n",
    "    SELECT\n",
    "        TO_DATE(ts) AS `date`,\n",
    "        SUM(edit_count) AS new_pages\n",
    "    FROM wmf.edit_hourly\n",
    "    WHERE\n",
    "            snapshot=\"{snapshot}\"\n",
    "        AND project=\"{project}\"\n",
    "\n",
    "        -- we're interested in data from given timeframe\n",
    "        AND ts >= '{start_ts}'\n",
    "        AND ts <= '{end_ts}'\n",
    "\n",
    "        -- exclude known bots\n",
    "        AND user_is_bot=false\n",
    "\n",
    "        -- filter for content edits only\n",
    "        AND namespace_is_content=true\n",
    "        \n",
    "        -- and only for new pages...\n",
    "        AND creates_new_page=true\n",
    "        \n",
    "        -- and only for survived pages\n",
    "        AND is_deleted=false\n",
    "    \n",
    "    GROUP BY\n",
    "        `date`\n",
    "    ORDER BY `date`\n",
    "    '''.format(\n",
    "        snapshot=SNAPSHOT,\n",
    "        project=PROJECT,\n",
    "        start_ts=start_ts,\n",
    "        end_ts=end_ts\n",
    "    ))\n",
    "    return df"
   ]
  },
  {
   "cell_type": "code",
   "execution_count": null,
   "id": "eade721b",
   "metadata": {},
   "outputs": [],
   "source": [
    "df = get_new_pages_daily('2020-01-01T00:00:00', '2020-12-31T23:59:59')\n",
    "df.to_csv('data/new_survived_articles_daily_2020.tsv', sep='\\t', index=False)\n",
    "df.head()"
   ]
  },
  {
   "cell_type": "code",
   "execution_count": null,
   "id": "12aaf106",
   "metadata": {},
   "outputs": [],
   "source": [
    "df = get_new_pages_daily('2019-01-01T00:00:00', '2019-12-31T23:59:59')\n",
    "df.to_csv('data/new_survived_articles_daily_2019.tsv', sep='\\t', index=False)\n",
    "df.head()"
   ]
  },
  {
   "cell_type": "code",
   "execution_count": null,
   "id": "321b19cf",
   "metadata": {},
   "outputs": [],
   "source": [
    "df = merge_dataframes('data/new_survived_articles_daily_2019.tsv', 'data/new_survived_articles_daily_2020.tsv')\n",
    "df.to_csv('data/new_survived_articles_daily_2019_2020.tsv', sep='\\t')\n",
    "df.head()"
   ]
  },
  {
   "cell_type": "markdown",
   "id": "21b07104",
   "metadata": {},
   "source": [
    "## Unique page creators\n",
    "\n",
    "Non-redirect pages created by human users that survived (were not deleted by an admin)."
   ]
  },
  {
   "cell_type": "code",
   "execution_count": 7,
   "id": "edf1c016",
   "metadata": {},
   "outputs": [],
   "source": [
    "def get_unique_page_creators(start_ts, end_ts):\n",
    "    return spark.run('''\n",
    "    SELECT\n",
    "        TO_DATE(event_timestamp) AS `date`,\n",
    "        COUNT(DISTINCT coalesce(event_user_id, event_user_text)) AS unique_page_creators\n",
    "    FROM wmf.mediawiki_history\n",
    "    WHERE\n",
    "            snapshot='{snapshot}'\n",
    "\n",
    "        -- we're interested in dbname's event\n",
    "        AND wiki_db='{dbname}'\n",
    "\n",
    "        -- we're interested in new pages created by human users, excluding redirects\n",
    "        AND event_entity='page'\n",
    "        AND event_type='create'\n",
    "        AND user_is_bot_by_historical IS NULL\n",
    "        AND page_is_redirect=false\n",
    "\n",
    "        -- in given date\n",
    "        AND event_timestamp >= '{start_ts}'\n",
    "        AND event_timestamp <= '{end_ts}'\n",
    "\n",
    "        -- and only pages that survived\n",
    "        AND page_is_deleted=false\n",
    "\n",
    "    GROUP BY `date`\n",
    "    ORDER BY `date`\n",
    "    '''.format(\n",
    "        snapshot=SNAPSHOT,\n",
    "        dbname=DBNAME,\n",
    "        start_ts=start_ts,\n",
    "        end_ts=end_ts\n",
    "    ))"
   ]
  },
  {
   "cell_type": "code",
   "execution_count": 8,
   "id": "21a42694",
   "metadata": {},
   "outputs": [
    {
     "name": "stderr",
     "output_type": "stream",
     "text": [
      "PySpark executors will use /usr/lib/anaconda-wmf/bin/python3.\n"
     ]
    },
    {
     "data": {
      "text/html": [
       "<div>\n",
       "<style scoped>\n",
       "    .dataframe tbody tr th:only-of-type {\n",
       "        vertical-align: middle;\n",
       "    }\n",
       "\n",
       "    .dataframe tbody tr th {\n",
       "        vertical-align: top;\n",
       "    }\n",
       "\n",
       "    .dataframe thead th {\n",
       "        text-align: right;\n",
       "    }\n",
       "</style>\n",
       "<table border=\"1\" class=\"dataframe\">\n",
       "  <thead>\n",
       "    <tr style=\"text-align: right;\">\n",
       "      <th></th>\n",
       "      <th>date</th>\n",
       "      <th>unique_page_creators</th>\n",
       "    </tr>\n",
       "  </thead>\n",
       "  <tbody>\n",
       "    <tr>\n",
       "      <th>0</th>\n",
       "      <td>2020-01-02</td>\n",
       "      <td>77</td>\n",
       "    </tr>\n",
       "    <tr>\n",
       "      <th>1</th>\n",
       "      <td>2020-01-03</td>\n",
       "      <td>80</td>\n",
       "    </tr>\n",
       "    <tr>\n",
       "      <th>2</th>\n",
       "      <td>2020-01-04</td>\n",
       "      <td>82</td>\n",
       "    </tr>\n",
       "    <tr>\n",
       "      <th>3</th>\n",
       "      <td>2020-01-05</td>\n",
       "      <td>77</td>\n",
       "    </tr>\n",
       "    <tr>\n",
       "      <th>4</th>\n",
       "      <td>2020-01-06</td>\n",
       "      <td>67</td>\n",
       "    </tr>\n",
       "  </tbody>\n",
       "</table>\n",
       "</div>"
      ],
      "text/plain": [
       "         date  unique_page_creators\n",
       "0  2020-01-02                    77\n",
       "1  2020-01-03                    80\n",
       "2  2020-01-04                    82\n",
       "3  2020-01-05                    77\n",
       "4  2020-01-06                    67"
      ]
     },
     "execution_count": 8,
     "metadata": {},
     "output_type": "execute_result"
    }
   ],
   "source": [
    "df = get_unique_page_creators('2020-01-01T00:00:00', '2020-12-31T23:59:59')\n",
    "df.to_csv('data/unique_page_creators_2020.tsv', sep='\\t', index=False)\n",
    "df.head()"
   ]
  },
  {
   "cell_type": "code",
   "execution_count": 9,
   "id": "ec0cc1bf",
   "metadata": {},
   "outputs": [
    {
     "name": "stderr",
     "output_type": "stream",
     "text": [
      "PySpark executors will use /usr/lib/anaconda-wmf/bin/python3.\n"
     ]
    },
    {
     "data": {
      "text/html": [
       "<div>\n",
       "<style scoped>\n",
       "    .dataframe tbody tr th:only-of-type {\n",
       "        vertical-align: middle;\n",
       "    }\n",
       "\n",
       "    .dataframe tbody tr th {\n",
       "        vertical-align: top;\n",
       "    }\n",
       "\n",
       "    .dataframe thead th {\n",
       "        text-align: right;\n",
       "    }\n",
       "</style>\n",
       "<table border=\"1\" class=\"dataframe\">\n",
       "  <thead>\n",
       "    <tr style=\"text-align: right;\">\n",
       "      <th></th>\n",
       "      <th>date</th>\n",
       "      <th>unique_page_creators</th>\n",
       "    </tr>\n",
       "  </thead>\n",
       "  <tbody>\n",
       "    <tr>\n",
       "      <th>0</th>\n",
       "      <td>2019-01-02</td>\n",
       "      <td>64</td>\n",
       "    </tr>\n",
       "    <tr>\n",
       "      <th>1</th>\n",
       "      <td>2019-01-03</td>\n",
       "      <td>69</td>\n",
       "    </tr>\n",
       "    <tr>\n",
       "      <th>2</th>\n",
       "      <td>2019-01-04</td>\n",
       "      <td>65</td>\n",
       "    </tr>\n",
       "    <tr>\n",
       "      <th>3</th>\n",
       "      <td>2019-01-05</td>\n",
       "      <td>62</td>\n",
       "    </tr>\n",
       "    <tr>\n",
       "      <th>4</th>\n",
       "      <td>2019-01-06</td>\n",
       "      <td>59</td>\n",
       "    </tr>\n",
       "  </tbody>\n",
       "</table>\n",
       "</div>"
      ],
      "text/plain": [
       "         date  unique_page_creators\n",
       "0  2019-01-02                    64\n",
       "1  2019-01-03                    69\n",
       "2  2019-01-04                    65\n",
       "3  2019-01-05                    62\n",
       "4  2019-01-06                    59"
      ]
     },
     "execution_count": 9,
     "metadata": {},
     "output_type": "execute_result"
    }
   ],
   "source": [
    "df = get_unique_page_creators('2019-01-01T00:00:00', '2019-12-31T23:59:59')\n",
    "df.to_csv('data/unique_page_creators_2019.tsv', sep='\\t', index=False)\n",
    "df.head()"
   ]
  },
  {
   "cell_type": "code",
   "execution_count": 10,
   "id": "cef6de48",
   "metadata": {},
   "outputs": [
    {
     "data": {
      "text/html": [
       "<div>\n",
       "<style scoped>\n",
       "    .dataframe tbody tr th:only-of-type {\n",
       "        vertical-align: middle;\n",
       "    }\n",
       "\n",
       "    .dataframe tbody tr th {\n",
       "        vertical-align: top;\n",
       "    }\n",
       "\n",
       "    .dataframe thead th {\n",
       "        text-align: right;\n",
       "    }\n",
       "</style>\n",
       "<table border=\"1\" class=\"dataframe\">\n",
       "  <thead>\n",
       "    <tr style=\"text-align: right;\">\n",
       "      <th></th>\n",
       "      <th>unique_page_creators_2019</th>\n",
       "      <th>unique_page_creators_2020</th>\n",
       "    </tr>\n",
       "    <tr>\n",
       "      <th>date</th>\n",
       "      <th></th>\n",
       "      <th></th>\n",
       "    </tr>\n",
       "  </thead>\n",
       "  <tbody>\n",
       "    <tr>\n",
       "      <th>2020-01-02</th>\n",
       "      <td>64</td>\n",
       "      <td>77</td>\n",
       "    </tr>\n",
       "    <tr>\n",
       "      <th>2020-01-03</th>\n",
       "      <td>69</td>\n",
       "      <td>80</td>\n",
       "    </tr>\n",
       "    <tr>\n",
       "      <th>2020-01-04</th>\n",
       "      <td>65</td>\n",
       "      <td>82</td>\n",
       "    </tr>\n",
       "    <tr>\n",
       "      <th>2020-01-05</th>\n",
       "      <td>62</td>\n",
       "      <td>77</td>\n",
       "    </tr>\n",
       "    <tr>\n",
       "      <th>2020-01-06</th>\n",
       "      <td>59</td>\n",
       "      <td>67</td>\n",
       "    </tr>\n",
       "  </tbody>\n",
       "</table>\n",
       "</div>"
      ],
      "text/plain": [
       "            unique_page_creators_2019  unique_page_creators_2020\n",
       "date                                                            \n",
       "2020-01-02                         64                         77\n",
       "2020-01-03                         69                         80\n",
       "2020-01-04                         65                         82\n",
       "2020-01-05                         62                         77\n",
       "2020-01-06                         59                         67"
      ]
     },
     "execution_count": 10,
     "metadata": {},
     "output_type": "execute_result"
    }
   ],
   "source": [
    "df = merge_dataframes('data/unique_page_creators_2019.tsv', 'data/unique_page_creators_2020.tsv')\n",
    "df.to_csv('data/unique_page_creators_2019_2020.tsv', sep='\\t')\n",
    "df.head()"
   ]
  }
 ],
 "metadata": {
  "kernelspec": {
   "display_name": "Python 3",
   "language": "python",
   "name": "python3"
  },
  "language_info": {
   "codemirror_mode": {
    "name": "ipython",
    "version": 3
   },
   "file_extension": ".py",
   "mimetype": "text/x-python",
   "name": "python",
   "nbconvert_exporter": "python",
   "pygments_lexer": "ipython3",
   "version": "3.7.6"
  }
 },
 "nbformat": 4,
 "nbformat_minor": 5
}
