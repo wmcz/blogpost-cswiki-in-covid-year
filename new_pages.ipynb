{
 "cells": [
  {
   "cell_type": "markdown",
   "id": "11068a4b",
   "metadata": {},
   "source": [
    "# Czech Wikipedia in the covid era: New pages\n",
    "\n",
    "This notebook shows data about pages created at Czech Wikipedia during years 2020 and 2019.\n",
    "\n",
    "Created by Martin Urbanec, Wikimedia Czech Republic. WIP notebook, do not rely on (yet)."
   ]
  },
  {
   "cell_type": "code",
   "execution_count": 1,
   "id": "d80a4743",
   "metadata": {},
   "outputs": [],
   "source": [
    "from wmfdata import spark\n",
    "import pandas as pd\n",
    "\n",
    "pd.set_option('display.max_colwidth', None)\n",
    "pd.set_option('display.width', None)\n",
    "pd.set_option('display.max_rows', None)\n",
    "pd.set_option('display.max_columns', None)"
   ]
  },
  {
   "cell_type": "markdown",
   "id": "6f123e23",
   "metadata": {},
   "source": [
    "## Configuration"
   ]
  },
  {
   "cell_type": "code",
   "execution_count": 2,
   "id": "14f0a69d",
   "metadata": {},
   "outputs": [],
   "source": [
    "SNAPSHOT = '2021-05'\n",
    "PROJECT='cs.wikipedia'\n",
    "DBNAME = 'cswiki'"
   ]
  },
  {
   "cell_type": "markdown",
   "id": "b3bdad3b",
   "metadata": {},
   "source": [
    "## Helper methods"
   ]
  },
  {
   "cell_type": "code",
   "execution_count": 4,
   "id": "d976c0bf",
   "metadata": {},
   "outputs": [],
   "source": [
    "def merge_dataframes(file_2019, file_2020, suffixes=('_2019', '_2020')):\n",
    "    df_2019 = pd.read_csv(file_2019, sep='\\t')\n",
    "    df_2019['date'] = df_2019.date.str.replace('2019-', 'year-')\n",
    "    df_2019.set_index('date', inplace=True)\n",
    "\n",
    "    df_2020 = pd.read_csv(file_2020, sep='\\t')\n",
    "    df_2020['date'] = df_2020.date.str.replace('2020-', 'year-')\n",
    "    df_2020.set_index('date', inplace=True)\n",
    "\n",
    "    df = df_2019.merge(df_2020, left_index=True, right_index=True, suffixes=suffixes)\n",
    "    df.reset_index(inplace=True)\n",
    "    df['date'] = df.date.str.replace('year-', '2020-')\n",
    "    df.set_index('date', inplace=True)\n",
    "    \n",
    "    return df"
   ]
  },
  {
   "cell_type": "markdown",
   "id": "bdc6a0ab",
   "metadata": {},
   "source": [
    "## Newly created pages"
   ]
  },
  {
   "cell_type": "code",
   "execution_count": 3,
   "id": "5edb4fa3",
   "metadata": {},
   "outputs": [],
   "source": [
    "def get_new_pages_daily(start_ts, end_ts):\n",
    "    df = spark.run('''\n",
    "    SELECT\n",
    "        TO_DATE(ts) AS `date`,\n",
    "        SUM(edit_count) AS new_pages\n",
    "    FROM wmf.edit_hourly\n",
    "    WHERE\n",
    "            snapshot=\"{snapshot}\"\n",
    "        AND project=\"{project}\"\n",
    "\n",
    "        -- we're interested in data from given timeframe\n",
    "        AND ts >= '{start_ts}'\n",
    "        AND ts <= '{end_ts}'\n",
    "\n",
    "        -- exclude known bots\n",
    "        AND user_is_bot=false\n",
    "\n",
    "        -- filter for content edits only\n",
    "        AND namespace_is_content=true\n",
    "        \n",
    "        -- and only for new pages...\n",
    "        AND creates_new_page=true\n",
    "    \n",
    "    GROUP BY\n",
    "        `date`\n",
    "    ORDER BY `date`\n",
    "    '''.format(\n",
    "        snapshot=SNAPSHOT,\n",
    "        project=PROJECT,\n",
    "        start_ts=start_ts,\n",
    "        end_ts=end_ts\n",
    "    ))\n",
    "    return df"
   ]
  },
  {
   "cell_type": "code",
   "execution_count": 5,
   "id": "7b17060c",
   "metadata": {},
   "outputs": [
    {
     "name": "stderr",
     "output_type": "stream",
     "text": [
      "PySpark executors will use /usr/lib/anaconda-wmf/bin/python3.\n"
     ]
    },
    {
     "data": {
      "text/html": [
       "<div>\n",
       "<style scoped>\n",
       "    .dataframe tbody tr th:only-of-type {\n",
       "        vertical-align: middle;\n",
       "    }\n",
       "\n",
       "    .dataframe tbody tr th {\n",
       "        vertical-align: top;\n",
       "    }\n",
       "\n",
       "    .dataframe thead th {\n",
       "        text-align: right;\n",
       "    }\n",
       "</style>\n",
       "<table border=\"1\" class=\"dataframe\">\n",
       "  <thead>\n",
       "    <tr style=\"text-align: right;\">\n",
       "      <th></th>\n",
       "      <th>date</th>\n",
       "      <th>new_pages</th>\n",
       "    </tr>\n",
       "  </thead>\n",
       "  <tbody>\n",
       "    <tr>\n",
       "      <th>0</th>\n",
       "      <td>2020-01-02</td>\n",
       "      <td>147</td>\n",
       "    </tr>\n",
       "    <tr>\n",
       "      <th>1</th>\n",
       "      <td>2020-01-03</td>\n",
       "      <td>125</td>\n",
       "    </tr>\n",
       "    <tr>\n",
       "      <th>2</th>\n",
       "      <td>2020-01-04</td>\n",
       "      <td>169</td>\n",
       "    </tr>\n",
       "    <tr>\n",
       "      <th>3</th>\n",
       "      <td>2020-01-05</td>\n",
       "      <td>193</td>\n",
       "    </tr>\n",
       "    <tr>\n",
       "      <th>4</th>\n",
       "      <td>2020-01-06</td>\n",
       "      <td>159</td>\n",
       "    </tr>\n",
       "  </tbody>\n",
       "</table>\n",
       "</div>"
      ],
      "text/plain": [
       "         date  new_pages\n",
       "0  2020-01-02        147\n",
       "1  2020-01-03        125\n",
       "2  2020-01-04        169\n",
       "3  2020-01-05        193\n",
       "4  2020-01-06        159"
      ]
     },
     "execution_count": 5,
     "metadata": {},
     "output_type": "execute_result"
    }
   ],
   "source": [
    "df = get_new_pages_daily('2020-01-01T00:00:00', '2020-12-31T23:59:59')\n",
    "df.to_csv('data/new_articles_daily_2020.tsv', sep='\\t', index=False)\n",
    "df.head()"
   ]
  },
  {
   "cell_type": "code",
   "execution_count": 6,
   "id": "6e7ac7d9",
   "metadata": {},
   "outputs": [
    {
     "name": "stderr",
     "output_type": "stream",
     "text": [
      "PySpark executors will use /usr/lib/anaconda-wmf/bin/python3.\n"
     ]
    },
    {
     "data": {
      "text/html": [
       "<div>\n",
       "<style scoped>\n",
       "    .dataframe tbody tr th:only-of-type {\n",
       "        vertical-align: middle;\n",
       "    }\n",
       "\n",
       "    .dataframe tbody tr th {\n",
       "        vertical-align: top;\n",
       "    }\n",
       "\n",
       "    .dataframe thead th {\n",
       "        text-align: right;\n",
       "    }\n",
       "</style>\n",
       "<table border=\"1\" class=\"dataframe\">\n",
       "  <thead>\n",
       "    <tr style=\"text-align: right;\">\n",
       "      <th></th>\n",
       "      <th>date</th>\n",
       "      <th>new_pages</th>\n",
       "    </tr>\n",
       "  </thead>\n",
       "  <tbody>\n",
       "    <tr>\n",
       "      <th>0</th>\n",
       "      <td>2019-01-02</td>\n",
       "      <td>144</td>\n",
       "    </tr>\n",
       "    <tr>\n",
       "      <th>1</th>\n",
       "      <td>2019-01-03</td>\n",
       "      <td>100</td>\n",
       "    </tr>\n",
       "    <tr>\n",
       "      <th>2</th>\n",
       "      <td>2019-01-04</td>\n",
       "      <td>129</td>\n",
       "    </tr>\n",
       "    <tr>\n",
       "      <th>3</th>\n",
       "      <td>2019-01-05</td>\n",
       "      <td>111</td>\n",
       "    </tr>\n",
       "    <tr>\n",
       "      <th>4</th>\n",
       "      <td>2019-01-06</td>\n",
       "      <td>94</td>\n",
       "    </tr>\n",
       "  </tbody>\n",
       "</table>\n",
       "</div>"
      ],
      "text/plain": [
       "         date  new_pages\n",
       "0  2019-01-02        144\n",
       "1  2019-01-03        100\n",
       "2  2019-01-04        129\n",
       "3  2019-01-05        111\n",
       "4  2019-01-06         94"
      ]
     },
     "execution_count": 6,
     "metadata": {},
     "output_type": "execute_result"
    }
   ],
   "source": [
    "df = get_new_pages_daily('2019-01-01T00:00:00', '2019-12-31T23:59:59')\n",
    "df.to_csv('data/new_articles_daily_2019.tsv', sep='\\t', index=False)\n",
    "df.head()"
   ]
  },
  {
   "cell_type": "code",
   "execution_count": 7,
   "id": "dde90e6d",
   "metadata": {},
   "outputs": [
    {
     "data": {
      "text/html": [
       "<div>\n",
       "<style scoped>\n",
       "    .dataframe tbody tr th:only-of-type {\n",
       "        vertical-align: middle;\n",
       "    }\n",
       "\n",
       "    .dataframe tbody tr th {\n",
       "        vertical-align: top;\n",
       "    }\n",
       "\n",
       "    .dataframe thead th {\n",
       "        text-align: right;\n",
       "    }\n",
       "</style>\n",
       "<table border=\"1\" class=\"dataframe\">\n",
       "  <thead>\n",
       "    <tr style=\"text-align: right;\">\n",
       "      <th></th>\n",
       "      <th>new_pages_2019</th>\n",
       "      <th>new_pages_2020</th>\n",
       "    </tr>\n",
       "    <tr>\n",
       "      <th>date</th>\n",
       "      <th></th>\n",
       "      <th></th>\n",
       "    </tr>\n",
       "  </thead>\n",
       "  <tbody>\n",
       "    <tr>\n",
       "      <th>2020-01-02</th>\n",
       "      <td>144</td>\n",
       "      <td>147</td>\n",
       "    </tr>\n",
       "    <tr>\n",
       "      <th>2020-01-03</th>\n",
       "      <td>100</td>\n",
       "      <td>125</td>\n",
       "    </tr>\n",
       "    <tr>\n",
       "      <th>2020-01-04</th>\n",
       "      <td>129</td>\n",
       "      <td>169</td>\n",
       "    </tr>\n",
       "    <tr>\n",
       "      <th>2020-01-05</th>\n",
       "      <td>111</td>\n",
       "      <td>193</td>\n",
       "    </tr>\n",
       "    <tr>\n",
       "      <th>2020-01-06</th>\n",
       "      <td>94</td>\n",
       "      <td>159</td>\n",
       "    </tr>\n",
       "  </tbody>\n",
       "</table>\n",
       "</div>"
      ],
      "text/plain": [
       "            new_pages_2019  new_pages_2020\n",
       "date                                      \n",
       "2020-01-02             144             147\n",
       "2020-01-03             100             125\n",
       "2020-01-04             129             169\n",
       "2020-01-05             111             193\n",
       "2020-01-06              94             159"
      ]
     },
     "execution_count": 7,
     "metadata": {},
     "output_type": "execute_result"
    }
   ],
   "source": [
    "df = merge_dataframes('data/new_articles_daily_2019.tsv', 'data/new_articles_daily_2020.tsv')\n",
    "df.to_csv('data/new_articles_daily_2019_2020.tsv', sep='\\t')\n",
    "df.head()"
   ]
  }
 ],
 "metadata": {
  "kernelspec": {
   "display_name": "Python 3",
   "language": "python",
   "name": "python3"
  },
  "language_info": {
   "codemirror_mode": {
    "name": "ipython",
    "version": 3
   },
   "file_extension": ".py",
   "mimetype": "text/x-python",
   "name": "python",
   "nbconvert_exporter": "python",
   "pygments_lexer": "ipython3",
   "version": "3.7.6"
  }
 },
 "nbformat": 4,
 "nbformat_minor": 5
}
